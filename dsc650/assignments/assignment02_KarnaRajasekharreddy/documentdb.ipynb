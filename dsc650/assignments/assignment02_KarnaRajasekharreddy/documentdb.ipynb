{
 "cells": [
  {
   "cell_type": "code",
   "execution_count": 1,
   "metadata": {},
   "outputs": [],
   "source": [
    "from pathlib import Path\n",
    "import json\n",
    "import os\n",
    "\n",
    "from tinydb import TinyDB\n",
    "\n",
    "current_dir = Path(os.getcwd()).absolute()\n",
    "results_dir = current_dir.joinpath('results')\n",
    "kv_data_dir = results_dir.joinpath('kvdb')\n",
    "kv_data_dir.mkdir(parents=True, exist_ok=True)\n",
    "\n",
    "def _load_json(json_path):\n",
    "    with open(json_path) as f:\n",
    "        return json.load(f)\n"
   ]
  },
  {
   "cell_type": "code",
   "execution_count": 2,
   "metadata": {},
   "outputs": [],
   "source": [
    "class DocumentDB(object):\n",
    "    def __init__(self, db_path):\n",
    "        people_json = kv_data_dir.joinpath('people.json')\n",
    "        visited_json = kv_data_dir.joinpath('visited.json')\n",
    "        sites_json = kv_data_dir.joinpath('sites.json')\n",
    "        measurements_json = kv_data_dir.joinpath('measurements.json')\n",
    "        self._db_path = Path(db_path)\n",
    "        self._db = None\n",
    "        self._person_lookup = _load_json(people_json)\n",
    "        self._visit_lookup = _load_json(visited_json)\n",
    "        self._site_lookup = _load_json(sites_json)\n",
    "        self._measurements_lookup = _load_json(measurements_json)\n",
    "        self._load_db()\n",
    "    def _get_site(self, site_id):\n",
    "        return self._site_lookup[str(site_id)]\n",
    "    def _get_measurements(self, person_id):\n",
    "        measurements = []\n",
    "        for values in self._measurements_lookup.values():\n",
    "            measurements.extend([value for value in values if str(values[0]['person_id']) == str(person_id)])\n",
    "        return measurements\n",
    "    def _get_visit(self, visit_id):\n",
    "        visit = self._visit_lookup.get(str(visit_id))\n",
    "        visit = [value for key, value in self._visit_lookup.items() if key.find(str(visit_id), 0, len(key)) > -1][0]\n",
    "        print (self._get_site(visit[0]['site_id']))\n",
    "        site = self._get_site(visit[0]['site_id'])\n",
    "        visit = site\n",
    "        print(visit)\n",
    "        return visit\n",
    "    def _load_db(self):\n",
    "        self._db = TinyDB(self._db_path)\n",
    "        persons = self._person_lookup.items()\n",
    "        for person_id, record in persons:\n",
    "            print(person_id, record)\n",
    "            measurements = self._get_measurements(person_id)\n",
    "            print (measurements) #[{'visit_id': 619, 'person_id': 'dyer', 'quantity': 'rad', 'reading': 9.82}]\n",
    "            visit_ids = set([measurement['visit_id'] for measurement in measurements if \"visit_id\" in measurement])\n",
    "            print (visit_ids)\n",
    "            visits = []\n",
    "            for visit_id in visit_ids:\n",
    "                visit = self._get_visit(visit_id)\n",
    "                visit['measurements'] = [measurement for measurement in measurements if visit_id == measurement['visit_id']]\n",
    "                visits.append(visit)\n",
    "            visits = visits[0] if len(visits) > 0 else {}\n",
    "            record['visits'] = visits\n",
    "            self._db.insert(record)"
   ]
  },
  {
   "cell_type": "code",
   "execution_count": 3,
   "metadata": {},
   "outputs": [
    {
     "name": "stdout",
     "output_type": "stream",
     "text": [
      "danforth {'person_id': 'danforth', 'personal_name': 'Frank', 'family_name': 'Danforth'}\n",
      "[]\n",
      "set()\n",
      "dyer {'person_id': 'dyer', 'personal_name': 'William', 'family_name': 'Dyer'}\n",
      "[{'visit_id': 619, 'person_id': 'dyer', 'quantity': 'rad', 'reading': 9.82}, {'visit_id': 619, 'person_id': 'dyer', 'quantity': 'sal', 'reading': 0.13}, {'visit_id': 622, 'person_id': 'dyer', 'quantity': 'rad', 'reading': 7.8}, {'visit_id': 622, 'person_id': 'dyer', 'quantity': 'sal', 'reading': 0.09}]\n",
      "{619, 622}\n",
      "{'site_id': 'DR-1', 'latitude': -49.85, 'longitude': -128.57}\n",
      "{'site_id': 'DR-1', 'latitude': -49.85, 'longitude': -128.57}\n",
      "{'site_id': 'DR-1', 'latitude': -49.85, 'longitude': -128.57, 'measurements': [{'visit_id': 619, 'person_id': 'dyer', 'quantity': 'rad', 'reading': 9.82}, {'visit_id': 619, 'person_id': 'dyer', 'quantity': 'sal', 'reading': 0.13}]}\n",
      "{'site_id': 'DR-1', 'latitude': -49.85, 'longitude': -128.57, 'measurements': [{'visit_id': 619, 'person_id': 'dyer', 'quantity': 'rad', 'reading': 9.82}, {'visit_id': 619, 'person_id': 'dyer', 'quantity': 'sal', 'reading': 0.13}]}\n",
      "lake {'person_id': 'lake', 'personal_name': 'Anderson', 'family_name': 'Lake'}\n",
      "[{'visit_id': 734, 'person_id': 'lake', 'quantity': 'sal', 'reading': 0.05}, {'visit_id': 752, 'person_id': 'lake', 'quantity': 'rad', 'reading': 2.19}, {'visit_id': 752, 'person_id': 'lake', 'quantity': 'sal', 'reading': 0.09}, {'visit_id': 752, 'person_id': 'lake', 'quantity': 'temp', 'reading': -16.0}, {'visit_id': 837, 'person_id': 'lake', 'quantity': 'rad', 'reading': 1.46}, {'visit_id': 837, 'person_id': 'lake', 'quantity': 'sal', 'reading': 0.21}]\n",
      "{752, 837, 734}\n",
      "{'site_id': 'DR-3', 'latitude': -47.15, 'longitude': -126.72}\n",
      "{'site_id': 'DR-3', 'latitude': -47.15, 'longitude': -126.72}\n",
      "{'site_id': 'MSK-4', 'latitude': -48.87, 'longitude': -123.4}\n",
      "{'site_id': 'MSK-4', 'latitude': -48.87, 'longitude': -123.4}\n",
      "{'site_id': 'DR-3', 'latitude': -47.15, 'longitude': -126.72, 'measurements': [{'visit_id': 752, 'person_id': 'lake', 'quantity': 'rad', 'reading': 2.19}, {'visit_id': 752, 'person_id': 'lake', 'quantity': 'sal', 'reading': 0.09}, {'visit_id': 752, 'person_id': 'lake', 'quantity': 'temp', 'reading': -16.0}]}\n",
      "{'site_id': 'DR-3', 'latitude': -47.15, 'longitude': -126.72, 'measurements': [{'visit_id': 752, 'person_id': 'lake', 'quantity': 'rad', 'reading': 2.19}, {'visit_id': 752, 'person_id': 'lake', 'quantity': 'sal', 'reading': 0.09}, {'visit_id': 752, 'person_id': 'lake', 'quantity': 'temp', 'reading': -16.0}]}\n",
      "pb {'person_id': 'pb', 'personal_name': 'Frank', 'family_name': 'Pabodie'}\n",
      "[{'visit_id': 734, 'person_id': 'pb', 'quantity': 'rad', 'reading': 8.41}, {'visit_id': 734, 'person_id': 'pb', 'quantity': 'temp', 'reading': -21.5}, {'visit_id': 735, 'person_id': 'pb', 'quantity': 'rad', 'reading': 7.22}, {'visit_id': 735, 'person_id': 'pb', 'quantity': 'sal', 'reading': 0.06}, {'visit_id': 735, 'person_id': 'pb', 'quantity': 'temp', 'reading': -26.0}, {'visit_id': 751, 'person_id': 'pb', 'quantity': 'rad', 'reading': 4.35}, {'visit_id': 751, 'person_id': 'pb', 'quantity': 'temp', 'reading': -18.5}]\n",
      "{751, 734, 735}\n",
      "{'site_id': 'DR-3', 'latitude': -47.15, 'longitude': -126.72, 'measurements': [{'visit_id': 734, 'person_id': 'lake', 'quantity': 'sal', 'reading': 0.05}]}\n",
      "{'site_id': 'DR-3', 'latitude': -47.15, 'longitude': -126.72, 'measurements': [{'visit_id': 734, 'person_id': 'lake', 'quantity': 'sal', 'reading': 0.05}]}\n",
      "{'site_id': 'DR-3', 'latitude': -47.15, 'longitude': -126.72, 'measurements': [{'visit_id': 751, 'person_id': 'pb', 'quantity': 'rad', 'reading': 4.35}, {'visit_id': 751, 'person_id': 'pb', 'quantity': 'temp', 'reading': -18.5}]}\n",
      "{'site_id': 'DR-3', 'latitude': -47.15, 'longitude': -126.72, 'measurements': [{'visit_id': 751, 'person_id': 'pb', 'quantity': 'rad', 'reading': 4.35}, {'visit_id': 751, 'person_id': 'pb', 'quantity': 'temp', 'reading': -18.5}]}\n",
      "{'site_id': 'DR-3', 'latitude': -47.15, 'longitude': -126.72, 'measurements': [{'visit_id': 734, 'person_id': 'pb', 'quantity': 'rad', 'reading': 8.41}, {'visit_id': 734, 'person_id': 'pb', 'quantity': 'temp', 'reading': -21.5}]}\n",
      "{'site_id': 'DR-3', 'latitude': -47.15, 'longitude': -126.72, 'measurements': [{'visit_id': 734, 'person_id': 'pb', 'quantity': 'rad', 'reading': 8.41}, {'visit_id': 734, 'person_id': 'pb', 'quantity': 'temp', 'reading': -21.5}]}\n",
      "roe {'person_id': 'roe', 'personal_name': 'Valentina', 'family_name': 'Roerich'}\n",
      "[{'visit_id': 752, 'person_id': 'roe', 'quantity': 'sal', 'reading': 41.6}, {'visit_id': 837, 'person_id': 'roe', 'quantity': 'sal', 'reading': 22.5}, {'visit_id': 844, 'person_id': 'roe', 'quantity': 'rad', 'reading': 11.25}]\n",
      "{752, 844, 837}\n",
      "{'site_id': 'DR-3', 'latitude': -47.15, 'longitude': -126.72, 'measurements': [{'visit_id': 735, 'person_id': 'pb', 'quantity': 'rad', 'reading': 7.22}, {'visit_id': 735, 'person_id': 'pb', 'quantity': 'sal', 'reading': 0.06}, {'visit_id': 735, 'person_id': 'pb', 'quantity': 'temp', 'reading': -26.0}]}\n",
      "{'site_id': 'DR-3', 'latitude': -47.15, 'longitude': -126.72, 'measurements': [{'visit_id': 735, 'person_id': 'pb', 'quantity': 'rad', 'reading': 7.22}, {'visit_id': 735, 'person_id': 'pb', 'quantity': 'sal', 'reading': 0.06}, {'visit_id': 735, 'person_id': 'pb', 'quantity': 'temp', 'reading': -26.0}]}\n",
      "{'site_id': 'DR-1', 'latitude': -49.85, 'longitude': -128.57, 'measurements': [{'visit_id': 622, 'person_id': 'dyer', 'quantity': 'rad', 'reading': 7.8}, {'visit_id': 622, 'person_id': 'dyer', 'quantity': 'sal', 'reading': 0.09}]}\n",
      "{'site_id': 'DR-1', 'latitude': -49.85, 'longitude': -128.57, 'measurements': [{'visit_id': 622, 'person_id': 'dyer', 'quantity': 'rad', 'reading': 7.8}, {'visit_id': 622, 'person_id': 'dyer', 'quantity': 'sal', 'reading': 0.09}]}\n",
      "{'site_id': 'MSK-4', 'latitude': -48.87, 'longitude': -123.4, 'measurements': [{'visit_id': 837, 'person_id': 'lake', 'quantity': 'rad', 'reading': 1.46}, {'visit_id': 837, 'person_id': 'lake', 'quantity': 'sal', 'reading': 0.21}]}\n",
      "{'site_id': 'MSK-4', 'latitude': -48.87, 'longitude': -123.4, 'measurements': [{'visit_id': 837, 'person_id': 'lake', 'quantity': 'rad', 'reading': 1.46}, {'visit_id': 837, 'person_id': 'lake', 'quantity': 'sal', 'reading': 0.21}]}\n"
     ]
    }
   ],
   "source": [
    "db_path = results_dir.joinpath('patient-info.json')\n",
    "if db_path.exists():\n",
    "    os.remove(db_path)\n",
    "db = DocumentDB(db_path)"
   ]
  },
  {
   "cell_type": "code",
   "execution_count": null,
   "metadata": {},
   "outputs": [],
   "source": []
  }
 ],
 "metadata": {
  "kernelspec": {
   "display_name": "Python 3 (ipykernel)",
   "language": "python",
   "name": "python3"
  },
  "language_info": {
   "codemirror_mode": {
    "name": "ipython",
    "version": 3
   },
   "file_extension": ".py",
   "mimetype": "text/x-python",
   "name": "python",
   "nbconvert_exporter": "python",
   "pygments_lexer": "ipython3",
   "version": "3.9.12"
  }
 },
 "nbformat": 4,
 "nbformat_minor": 4
}
